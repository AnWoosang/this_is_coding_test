{
 "cells": [
  {
   "cell_type": "markdown",
   "id": "a331ed02",
   "metadata": {},
   "source": [
    "# 0. 코딩테스트 개요"
   ]
  },
  {
   "cell_type": "markdown",
   "id": "9bad20f4",
   "metadata": {},
   "source": [
    "## 종류\n",
    "온라인<br>\n",
    "오프라인"
   ]
  },
  {
   "cell_type": "markdown",
   "id": "295e39de",
   "metadata": {},
   "source": [
    "## 권장 공부순서\n",
    "1. 코드업 [문제] - [문제집] - [기초 100제] <br>\n",
    "2. 백준 OJ 유형별 알고리즘\n",
    "* 카카오 대비 - 프로그래머스\n",
    "* 삼성 SW"
   ]
  },
  {
   "cell_type": "markdown",
   "id": "3f658665",
   "metadata": {},
   "source": [
    "## 복잡도\n",
    "### 개념 : 알고리즘의 성능을 나타내는 지표\n",
    "#### 종류\n",
    "##### 시간 복잡도 : 얼마나 오래걸리는가? -> 연산횟수\n",
    "##### 공간 복잡도 : 얼마나 메모리를 사용하는가? -> 메모리 양\n",
    "##### * 효율적인 알고리즘 사용 시 상호 거래관계 성립"
   ]
  },
  {
   "cell_type": "markdown",
   "id": "af2babbe",
   "metadata": {},
   "source": [
    "##### 시간 복잡도 : 통상적으로 알고리즘을 풀 때 복잡도라고 하면 이를 의미함\n",
    "##### 표현 방법 : BIG-O 표기 (가장 빠르게 증가하는 항만을 고려하여 표기)\n",
    "##### * 연산횟 수 10억번 -> 1sec"
   ]
  },
  {
   "cell_type": "markdown",
   "id": "6d52083a",
   "metadata": {},
   "source": [
    "##### * 시간 제한에 따른 복잡도 고려\n",
    "- N <= 500  ---------------- O(N^3) <br>\n",
    "- N <= 2,000 ------------- O(N^2) <br>\n",
    "- N <= 100,000 ---------- O(NlogN) <br>\n",
    "- N <= 10,000,000 ------ O(N) <br>\n",
    "- N >= 10,000,000  ------ O(logN) <br>"
   ]
  },
  {
   "cell_type": "markdown",
   "id": "a4b31f9e",
   "metadata": {},
   "source": [
    "##### 공간 복잡도\n",
    "##### 표현 방법 : BIG-O 표기\n",
    "##### 코딩 테스트의 대부분의 문제는 배열, 리스트 자료형을 사용한다. 이는 다수의 데이터에 대한 효율적 처리를 요구하는 것이다.\n",
    "###### 기준\n",
    "- int a[1,000]  ---------------- 4KB <br>\n",
    "- int a[1,000,000] ------------- 4MB <br>\n",
    "* 일반적으로 코테 문제의 메모리 제한은 128~512MB 이므로 30,000,000 ~ 50,000,000 개의 데이터를 사용할 수 있음을 짐작할 수 있다. <br>\n",
    "* 리스트의 크기가 천만 단위를 넘어간다면 알고리즘을 다시 생각해봐야 한다."
   ]
  },
  {
   "cell_type": "code",
   "execution_count": 3,
   "id": "fa0c6ff3",
   "metadata": {},
   "outputs": [
    {
     "name": "stdout",
     "output_type": "stream",
     "text": [
      "수행 시간 :  10.014749765396118\n"
     ]
    }
   ],
   "source": [
    "# 수행시간 측정 코드\n",
    "import time\n",
    "\n",
    "start_time = time.time()\n",
    "time.sleep(10)\n",
    "end_time = time.time()\n",
    "\n",
    "print(\"수행 시간 : \", end_time - start_time)"
   ]
  },
  {
   "cell_type": "markdown",
   "id": "2644d1e8",
   "metadata": {},
   "source": [
    "### \"알고리즘 분야는 다른 분야에 비해서 문제 해석과 답안 작성에 투자해야하는 시간이 긴 편\""
   ]
  },
  {
   "cell_type": "markdown",
   "id": "7448bafe",
   "metadata": {},
   "source": [
    "#### * 합격권 - 코드포스 블루(상위 20%) 이상, ACM-ICPC 본선 합격권"
   ]
  }
 ],
 "metadata": {
  "kernelspec": {
   "display_name": "Python 3",
   "language": "python",
   "name": "python3"
  },
  "language_info": {
   "codemirror_mode": {
    "name": "ipython",
    "version": 3
   },
   "file_extension": ".py",
   "mimetype": "text/x-python",
   "name": "python",
   "nbconvert_exporter": "python",
   "pygments_lexer": "ipython3",
   "version": "3.8.8"
  }
 },
 "nbformat": 4,
 "nbformat_minor": 5
}
