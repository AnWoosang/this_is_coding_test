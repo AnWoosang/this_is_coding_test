{
 "cells": [
  {
   "cell_type": "markdown",
   "id": "80880585-4d27-4345-9436-188adf8f2cdd",
   "metadata": {},
   "source": [
    "# 2. 아이디어를 코드로 바꾸는 구현"
   ]
  },
  {
   "cell_type": "code",
   "execution_count": null,
   "id": "263e148d-3130-49f0-9722-56713fa3dff9",
   "metadata": {},
   "outputs": [],
   "source": []
  }
 ],
 "metadata": {
  "kernelspec": {
   "display_name": "Python 3",
   "language": "python",
   "name": "python3"
  },
  "language_info": {
   "codemirror_mode": {
    "name": "ipython",
    "version": 3
   },
   "file_extension": ".py",
   "mimetype": "text/x-python",
   "name": "python",
   "nbconvert_exporter": "python",
   "pygments_lexer": "ipython3",
   "version": "3.8.8"
  }
 },
 "nbformat": 4,
 "nbformat_minor": 5
}
