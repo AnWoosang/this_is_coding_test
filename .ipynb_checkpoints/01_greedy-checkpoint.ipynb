{
 "cells": [
  {
   "cell_type": "markdown",
   "id": "f2ad9c4c",
   "metadata": {},
   "source": [
    "# 1. 그리디 알고리즘"
   ]
  },
  {
   "cell_type": "markdown",
   "id": "b6c40dc5",
   "metadata": {},
   "source": [
    "greedy(탐욕적)의 의미 : 현재 상황에서 지금 당장 좋은 것만 고른다. <br>\n",
    "-> 현재의 선택이 나중에 미칠 영향을 고려하지 않는다. <br>\n",
    "-> 사전에 외우고 있지 않아도 풀 수 있을 가능성이 높은 문제이다. <br> \n",
    "-> 철저한 검증이 필요하다."
   ]
  },
  {
   "cell_type": "markdown",
   "id": "9f371896",
   "metadata": {},
   "source": [
    "## [예제 1] 거스름돈 <br>\n",
    "#### 당신은 음식점의 계산을 도와주는 점원이다. 카운터에는 거스름돈으로 사용할 500원, 100원, 50원, 10원짜리 동전이 무한히 존재한다고 가정한다. 손님에게 거슬러 줘야 할 돈이 N원일 때 거슬러 줘야할 동전의 최소 개수를 구하라. 단, 거슬러 줘야 할 돈 N은 항상 10의 배수이다."
   ]
  },
  {
   "cell_type": "code",
   "execution_count": 41,
   "id": "12e449b7",
   "metadata": {},
   "outputs": [
    {
     "name": "stdout",
     "output_type": "stream",
     "text": [
      "12560\n",
      "27\n"
     ]
    }
   ],
   "source": [
    "n = int(input())\n",
    "coins = [500, 100, 50, 10]\n",
    "result = 0\n",
    "\n",
    "for i in coins:\n",
    "    result += n // i\n",
    "    n %= i\n",
    "    \n",
    "print(result)"
   ]
  },
  {
   "cell_type": "markdown",
   "id": "ff15b8b1",
   "metadata": {},
   "source": [
    "이 문제는 그리디 알고리즘의 대표적인 예로 \"가장 큰 화폐 단위부터 돈을 거슬러 주는 것\" 이라는 간단한 아이디어를 떠올려 해결할 수 있다."
   ]
  },
  {
   "cell_type": "markdown",
   "id": "e74ad2ad",
   "metadata": {},
   "source": [
    " 주의해야 할 점은 위 문제에서는 주어진 동전의 종류가 서로 배수관계에 있어서 전체 케이스를 나누는데에 있어 하나의 케이스를 지울 때마다 포함과 배제의 방식으로 이외의 케이스가 없지만, 예를 들어 주어진 동전의 종류가 500, 400, 100원이라면 이렇게 쉽게 해결할 수 없다."
   ]
  },
  {
   "cell_type": "code",
   "execution_count": 4,
   "id": "d992406e",
   "metadata": {},
   "outputs": [
    {
     "name": "stdout",
     "output_type": "stream",
     "text": [
      "800\n",
      "4\n"
     ]
    }
   ],
   "source": [
    "n = int(input())\n",
    "coins = [500, 400, 100]\n",
    "result = 0\n",
    "\n",
    "for i in coins:\n",
    "    result += n // i\n",
    "    n %= i\n",
    "    \n",
    "print(result)"
   ]
  },
  {
   "cell_type": "markdown",
   "id": "5da7976f",
   "metadata": {},
   "source": [
    "800원 이라는 테스트 케이스에서 필요한 최소의 동전 개수는 400원 동전 2개이지만, 이전에 고려한 알고리즘을 통해서는 이를 도출할 수 없다. 즉, 500원과 400원이 상호 배수관계가 아니므로 고려할 수 없는 케이스가 생긴 것이다. (참고로 동전의 종류가 무작위인 문제는 DP를 통해서 풀어낼 수 있다.)"
   ]
  },
  {
   "cell_type": "markdown",
   "id": "81b78b18",
   "metadata": {},
   "source": [
    "## [실습 1] 큰 수의 법칙 (난이도 : ★☆☆)"
   ]
  },
  {
   "cell_type": "markdown",
   "id": "5030b369",
   "metadata": {},
   "source": [
    "#### '큰 수의 법칙'은 일반적으로 통계 분야에서 다루어지는 내용이지만 동빈이는 본인만의 방식으로 다르게 사용하고 있다. 동빈이의 큰 수의 법칙은 다양한 수로 이루어진 배열이 있을 때 주어진 수들을 M번 더하여 가장 큰 수를 만드는 법칙이다. 단, 배열의 특정한 인덱스에 해당하는 수가 연속해서 K번을 초과하여 더해질 수 없는 것이 이 법칙의 특징이다. <br>\n",
    "#### 예를 들어 2, 4, 5, 4, 6으로 이루어진 배열이 있을 때 M이 8이고, K가 3이라고 가정하자. 이 경우 특정한 인덱스의 수가 연속해서 세 번까지만 더해질 수 있으므로 큰 수의 법칙에 따른 결과는 6 + 6 + 6 + 5 + 6 + 6 + 6 + 5인 46이 된다. <br>\n",
    "#### 단, 서로 다른 인덱스에 해당하는 수가 같은 경우에도 서로 다른 것으로 간주한다. 예를 들어 순서대로 3, 4, 3, 4, 3으로 이루어진 배열이 있을 때 M이 7이고, K가 2라고 가정하자. 이 경우 두번째 원소에 해당하는 4와 네 번째 원소에 해당하는 4를 번갈아 두 번씩 더하는 것이 가능하다. 결과적으로 4 + 4 + 4 + 4 + 4 + 4 + 4 인 28이 도출된다. <br>\n",
    "#### 배열의 크기 N, 숫자가 더해지는 횟수 M, 그리고 K가 주어질 때 동빈이의 큰 수의 법칙에 따른 결과를 출력하시오."
   ]
  },
  {
   "cell_type": "markdown",
   "id": "f02f624d",
   "metadata": {},
   "source": [
    "아이디어 <br>\n",
    "고려해야할 조건 : 가장 큰 수를 고려, 큰 수들 중 몇 개의 수가 중복되어 있는지?"
   ]
  },
  {
   "cell_type": "code",
   "execution_count": 30,
   "id": "c8026d84",
   "metadata": {},
   "outputs": [
    {
     "name": "stdout",
     "output_type": "stream",
     "text": [
      "5 8 3\n",
      "2 4 5 4 6\n",
      "46\n",
      "실행시간 :  0.0\n"
     ]
    }
   ],
   "source": [
    "# 직접 구현\n",
    "import time\n",
    "\n",
    "n, m, k = map(int, input().split())\n",
    "nums = map(int, input().split())\n",
    "\n",
    "st = time.time()\n",
    "\n",
    "nums = sorted(nums)\n",
    "\n",
    "cnt = 1\n",
    "res = 0\n",
    "\n",
    "for i in range(m):\n",
    "    if cnt % k == 0:\n",
    "        res += nums[-2]\n",
    "    else:\n",
    "        res += nums[-1]\n",
    "    cnt+=1\n",
    "        \n",
    "print(res)\n",
    "\n",
    "et = time.time()\n",
    "print(\"실행시간 : \", et - st)"
   ]
  },
  {
   "cell_type": "code",
   "execution_count": 29,
   "id": "0c7fe070",
   "metadata": {},
   "outputs": [
    {
     "name": "stdout",
     "output_type": "stream",
     "text": [
      "5 8 3\n",
      "2 4 5 4 6\n",
      "46\n",
      "실행시간 :  0.0010113716125488281\n"
     ]
    }
   ],
   "source": [
    "# 교재 코드\n",
    "import time\n",
    "\n",
    "n, m, k = map(int, input().split())\n",
    "data = list(map(int, input().split()))\n",
    "\n",
    "st = time.time()\n",
    "data.sort()\n",
    "\n",
    "first = data[n - 1]\n",
    "second = data[n - 2]\n",
    "\n",
    "result = 0\n",
    "\n",
    "while True:\n",
    "    for i in range(k):\n",
    "        if m == 0:\n",
    "            break\n",
    "        result += first\n",
    "        m -= 1\n",
    "    \n",
    "    if m == 0:\n",
    "        break\n",
    "    result += second\n",
    "    m -= 1\n",
    "print(result)\n",
    "\n",
    "et = time.time()\n",
    "print(\"실행시간 : \", et - st)"
   ]
  },
  {
   "cell_type": "markdown",
   "id": "cc4b4147",
   "metadata": {},
   "source": [
    "#### 문제 해결의 핵심 : 반복되는 수열을 파악\n",
    "가장 큰 수와 두 번째로 큰 수가 더해질 때는 특정한 수열 형태로 일정하게 반복해서 더해지는 특징이 있다. <br>\n",
    "\n",
    "##### * 더 나아가 반복되는 수열의 특징을 고려하여, 수열이 몇 번 반복되는지, 이에 따라 가장 큰 수는 몇 번 더해지는지 까지 고려하면 아래와 같이 코드를 구성할 수 있다.\n",
    "\n",
    "수열의 크기는 K + 1 이고 전체 덧셈 횟수인 M 을 K + 1로 나누면 몫은 두 번째 큰 수가 더해지는 횟수이다."
   ]
  },
  {
   "cell_type": "code",
   "execution_count": 36,
   "id": "9373ed72",
   "metadata": {},
   "outputs": [
    {
     "name": "stdout",
     "output_type": "stream",
     "text": [
      "5 8 3\n",
      "2 4 5 4 6\n",
      "46\n"
     ]
    }
   ],
   "source": [
    "# 교재의 개선 풀이\n",
    "n, m, k = map(int, input().split())\n",
    "data = list(map(int, input().split()))\n",
    "data.sort()\n",
    "\n",
    "first = data[n - 1]\n",
    "second = data[n - 2]\n",
    "\n",
    "count = int(m / (k+1)) * k\n",
    "count += m % (k+1)\n",
    "\n",
    "result = 0\n",
    "result += (count) * first\n",
    "result += (m - count) * second\n",
    "\n",
    "print(result)"
   ]
  },
  {
   "cell_type": "code",
   "execution_count": 37,
   "id": "caf98e9b",
   "metadata": {},
   "outputs": [
    {
     "name": "stdout",
     "output_type": "stream",
     "text": [
      "5 8 3\n",
      "2 4 5 4 6\n",
      "46\n"
     ]
    }
   ],
   "source": [
    "# 교재 코드 참조 수정코드\n",
    "n, m, k = map(int, input().split())\n",
    "nums = list(map(int, input().split()))\n",
    "nums.sort()\n",
    "\n",
    "cnt = m // (k+1)\n",
    "\n",
    "res = 0\n",
    "res += nums[-1] * (m - cnt)\n",
    "res += nums[-2] * cnt\n",
    "\n",
    "print(res)"
   ]
  },
  {
   "cell_type": "markdown",
   "id": "fc3f33ea",
   "metadata": {},
   "source": [
    "## [실습 2] 숫자 카드 게임 (난이도 : ★☆☆)"
   ]
  },
  {
   "cell_type": "markdown",
   "id": "74c14af6",
   "metadata": {},
   "source": [
    "##### 숫자 카드 게임은 여러 개의 숫자 카드 중에서 가장 높은 숫자가 쓰인 카드 한 장을 뽑는 게임이다. 단, 게임의 룰을 지키며 카드를 뽑아야 하고 룰은 다음과 같다.\n",
    "##### 1. 숫자가 쓰인 카드들이 N X M 형태로 놓여 있다. 이때, N은 행의 개수를 의미하며, M은 열의 개수를 의미 한다.\n",
    "##### 2. 먼저 뽑고자 하는 카드가 포함되어 있는 행을 선택한다.\n",
    "##### 3. 그다음 선택된 행에 포함된 카드들 중 가장 숫자가 낮은 카드를 뽑아야 한다.\n",
    "##### 4. 따라서 처음에 카드를 골라낼 행을 선택할 때, 이후에 해당 행에서 가장 숫자가 낮은 카드를 뽑을 것을 고려하여 최종적으로 가장 높은 숫자의 카드를 뽑을 수 있도록 전략을 세워야 한다.\n",
    "##### 예를 들어  3 X 3 형태로 카드들이 다음과 같이 놓여 있다고 가정하자."
   ]
  },
  {
   "cell_type": "markdown",
   "id": "7a24ed1a",
   "metadata": {},
   "source": [
    "| |card| |\n",
    "|:-|:-:|-:|\n",
    "|3|1|2|\n",
    "|4|1|4|\n",
    "|2|2|2|"
   ]
  },
  {
   "cell_type": "markdown",
   "id": "5dfed0eb",
   "metadata": {},
   "source": [
    "##### 여기서 카드를 골라낼 행을 고를 때 첫 번째 혹은 두 번째 행을 선택하는 경우, 최종적으로 뽑는 카드는 1이다. 하지만 세 번째 행을 선택하는 경우 최종적으로 뽑는 카드는 2이다. 따라서 이 예제에서는 세 번째 행을 선택하여 숫자 2가 쓰여진 카드를 뽑는 것이 정답이다.\n",
    "##### 카드들이 N X M 형태로 놓여 있을 때, 게임의 룰에 맞게 카드를 뽑는 프로그램을 만드시오."
   ]
  },
  {
   "cell_type": "code",
   "execution_count": 13,
   "id": "11a63cc3",
   "metadata": {},
   "outputs": [
    {
     "name": "stdin",
     "output_type": "stream",
     "text": [
      " 3 3\n",
      " 3 1 2 \n",
      " 4 1 4\n",
      " 2 2 2\n"
     ]
    },
    {
     "name": "stdout",
     "output_type": "stream",
     "text": [
      "2\n"
     ]
    }
   ],
   "source": [
    "# 직접 구현\n",
    "n, m = map(int, input().split())\n",
    "line=[]\n",
    "for i in range(n):\n",
    "    line.append(list(map(int, input().split())))\n",
    "\n",
    "line_min=[]\n",
    "\n",
    "for i in line:\n",
    "    line_min.append(min(i))\n",
    "    \n",
    "print(max(line_min))"
   ]
  },
  {
   "cell_type": "code",
   "execution_count": 18,
   "id": "6f45e9d9-ddb1-4d3f-811d-65f38e707ab4",
   "metadata": {},
   "outputs": [
    {
     "name": "stdin",
     "output_type": "stream",
     "text": [
      " 3 3\n",
      " 3 1 2\n",
      " 4 1 4\n",
      " 2 2 2\n"
     ]
    },
    {
     "name": "stdout",
     "output_type": "stream",
     "text": [
      "2\n"
     ]
    }
   ],
   "source": [
    "#교재 코드 1\n",
    "n, m = map(int, input().split())\n",
    "result = 0\n",
    "\n",
    "for i in range(n):\n",
    "    data = list(map(int, input().split()))\n",
    "    min_value = min(data)\n",
    "    result = max(result, min_value)\n",
    "    \n",
    "print(result)"
   ]
  },
  {
   "cell_type": "code",
   "execution_count": 21,
   "id": "f738aabe-e3a5-4b38-9dc7-2ad74c5b8e10",
   "metadata": {},
   "outputs": [
    {
     "name": "stdin",
     "output_type": "stream",
     "text": [
      " 3 3\n",
      " 3 1 2\n",
      " 4 1 4\n",
      " 2 2 2\n"
     ]
    },
    {
     "name": "stdout",
     "output_type": "stream",
     "text": [
      "2\n"
     ]
    }
   ],
   "source": [
    "# 교재 코드 2\n",
    "n, m = map(int, input().split())\n",
    "result = 0\n",
    "\n",
    "for i in range(n):\n",
    "    data = list(map(int, input().split()))\n",
    "    min_value = 10001\n",
    "    for a in data:\n",
    "        min_value = min(min_value, a)\n",
    "    result = max(min_value, result)\n",
    "print(result)"
   ]
  },
  {
   "cell_type": "code",
   "execution_count": 15,
   "id": "07705e25-2aa9-4009-a09a-57dba0c19bf4",
   "metadata": {},
   "outputs": [
    {
     "name": "stdin",
     "output_type": "stream",
     "text": [
      " 3 3 \n",
      " 3 1 2\n",
      " 4 1 4\n",
      " 2 2 2\n"
     ]
    },
    {
     "name": "stdout",
     "output_type": "stream",
     "text": [
      "2\n"
     ]
    }
   ],
   "source": [
    "# 다시 짠 개선 코드\n",
    "n, m = map(int, input().split())\n",
    "result = 0\n",
    "\n",
    "for i in range(n):\n",
    "    tmp = min(list(map(int, input().split())))\n",
    "    if tmp >= result:\n",
    "        result = tmp\n",
    "    \n",
    "print(result)"
   ]
  },
  {
   "cell_type": "markdown",
   "id": "8f3c902e-d464-4a0c-93db-3a271b992fb2",
   "metadata": {},
   "source": [
    "##### 문제 풀이의 핵심은 \"각 행마다 가장 작은 수를 찾은 뒤에 그 수 중에서 가장 큰 수를 찾는 것\"이다."
   ]
  },
  {
   "cell_type": "markdown",
   "id": "b00b64fb-93b4-463e-9f61-5f36ccb23159",
   "metadata": {},
   "source": [
    "## [실습 3] 1이 될 때까지 (난이도 : ★☆☆)\n",
    "##### 어떠한 수 N이 1이 될 때까지 다음의 두 과정 중 하나를 반복적으로 선택하여 수행하려고 한다. 단, 두 번째 연산은 N이 K로 나누어질때만 선택할 수 있다.\n",
    "#### 1. N에서 1을 뺀다.\n",
    "#### 2. N을 K로 나눈다.\n",
    "##### 예를 들어 N이 17, K가 4라고 가정하자. 이때 1번의 과정을 한 번 수행하면 N은 16이 된다. 이후에 2번의 과정을 두 번 수행하면 N은 1이 된다. 결과적으로 이 경우 전체 과정을 실행해야 하는 횟 수는 3이 된다. 이는 N을 1로 만드는 최소 횟수이다.\n",
    "##### N과 K가 주어질 때 N이 1이 될 때까지만 1번 혹은 2번의 과정을 수행해야 하는 최소 횟수를 구하는 프로그램을 작성하시오."
   ]
  },
  {
   "cell_type": "markdown",
   "id": "1eb227f9-a05e-4e28-b5cd-f993b25429c5",
   "metadata": {},
   "source": [
    "* 아이디어 : 횟수의 최악의 경우는 N을 모두 1로 빼는 과정일 것이다. 최소의 횟수로 1을 만들기 위해서는 N을 K의 배수로 만들 때까지 빼고 K로 나누는 경우 일 것이다."
   ]
  },
  {
   "cell_type": "code",
   "execution_count": 21,
   "id": "b3dc375e-a78a-4cd5-b411-00e5afbea05a",
   "metadata": {},
   "outputs": [
    {
     "name": "stdin",
     "output_type": "stream",
     "text": [
      " 25 3\n"
     ]
    },
    {
     "name": "stdout",
     "output_type": "stream",
     "text": [
      "7\n"
     ]
    }
   ],
   "source": [
    "# 직접 구현 (틀림 : n < K일 경우를 고려하지 않음)\n",
    "n, k = map(int, input().split())\n",
    "result = 0\n",
    "\n",
    "while True:\n",
    "    if n % k == 0:\n",
    "        result += 1\n",
    "        n //= k\n",
    "    else:\n",
    "        result += n % k\n",
    "        n -= n%k\n",
    "        \n",
    "    if n <= 1:\n",
    "        break\n",
    "\n",
    "print(result)"
   ]
  },
  {
   "cell_type": "markdown",
   "id": "bcb86489-ca1e-4efa-8899-6befd2ec5b45",
   "metadata": {},
   "source": [
    "#### 생각한 아이디어와 풀이가 비슷하긴 하나, 나눌 케이스에 대해 더 생각하지 못했다. 작성한 코드에 따르면 n > k 인 상태에서 n이 k로 나누어 떨어지는 경우에는 답이 맞지만, n < k인 상태에서 n == 1이 아님에도 프로그램이 잘못된 결과를 도출하고 종료된다."
   ]
  },
  {
   "cell_type": "code",
   "execution_count": 44,
   "id": "624f6b62-da9a-43b3-8364-ce605792e0f7",
   "metadata": {},
   "outputs": [
    {
     "name": "stdin",
     "output_type": "stream",
     "text": [
      " 25 5\n"
     ]
    },
    {
     "name": "stdout",
     "output_type": "stream",
     "text": [
      "2\n"
     ]
    }
   ],
   "source": [
    "# 직접 구현 오답 수정\n",
    "n, k = map(int, input().split())\n",
    "result = 0\n",
    "\n",
    "while n >= k:\n",
    "    if n % k == 0:\n",
    "        result += 1\n",
    "        n //= k\n",
    "    else:\n",
    "        result += (n % k)\n",
    "        n -= (n % k)\n",
    "\n",
    "result += (n - 1)\n",
    "print(result)"
   ]
  },
  {
   "cell_type": "code",
   "execution_count": 42,
   "id": "8095b8c5-0a4b-43a9-8513-7b08ba899ae7",
   "metadata": {},
   "outputs": [
    {
     "name": "stdin",
     "output_type": "stream",
     "text": [
      " 25 5\n"
     ]
    },
    {
     "name": "stdout",
     "output_type": "stream",
     "text": [
      "2\n"
     ]
    }
   ],
   "source": [
    "# 교재 \"단순하게 푸는 답안 예시\"\n",
    "n, k = map(int, input().split())\n",
    "result = 0\n",
    "\n",
    "while n >= k:\n",
    "    while n % k != 0:\n",
    "        n -= 1\n",
    "        result += 1\n",
    "    n //= k\n",
    "    result += 1\n",
    "\n",
    "# 마지막 남은 수에 대하여 1씩 빼기\n",
    "while n > 1:\n",
    "    n -= 1\n",
    "    result += 1\n",
    "\n",
    "print(result)"
   ]
  },
  {
   "cell_type": "code",
   "execution_count": 45,
   "id": "c43d6bea-f547-4e91-8ad8-abccbaa7a837",
   "metadata": {},
   "outputs": [
    {
     "name": "stdin",
     "output_type": "stream",
     "text": [
      " 25 5\n"
     ]
    },
    {
     "name": "stdout",
     "output_type": "stream",
     "text": [
      "2\n"
     ]
    }
   ],
   "source": [
    "# 교재 개선 코드 (1을 한번씩 빼는 과정 개선)\n",
    "n, k = map(int, input().split())\n",
    "result = 0\n",
    "\n",
    "while True:\n",
    "    target = (n // k) * k\n",
    "    result += (n - target)\n",
    "    n = target\n",
    "    if n < k:\n",
    "        break\n",
    "    result += 1\n",
    "    n //= k\n",
    "\n",
    "result += (n - 1)\n",
    "print(result)"
   ]
  }
 ],
 "metadata": {
  "kernelspec": {
   "display_name": "Python 3",
   "language": "python",
   "name": "python3"
  },
  "language_info": {
   "codemirror_mode": {
    "name": "ipython",
    "version": 3
   },
   "file_extension": ".py",
   "mimetype": "text/x-python",
   "name": "python",
   "nbconvert_exporter": "python",
   "pygments_lexer": "ipython3",
   "version": "3.8.8"
  }
 },
 "nbformat": 4,
 "nbformat_minor": 5
}
